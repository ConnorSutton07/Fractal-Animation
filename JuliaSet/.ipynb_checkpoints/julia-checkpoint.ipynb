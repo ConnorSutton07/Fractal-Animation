{
 "cells": [
  {
   "cell_type": "code",
   "execution_count": 1,
   "metadata": {},
   "outputs": [],
   "source": [
    "import numpy as np\n",
    "import matplotlib.pyplot as plt\n",
    "import matplotlib.animation as animation"
   ]
  },
  {
   "cell_type": "code",
   "execution_count": 2,
   "metadata": {},
   "outputs": [],
   "source": [
    "def julia_quadratic(zx, zy, cx, cy, threshold):\n",
    "    \"\"\"\n",
    "    Calculates whether the number z[0] = zx + i*zy with constant c = x + i*y\n",
    "    belongs to the Julia set. In order to belong, the sequence z[i+1] = z[i]**2 + c,\n",
    "    must not diverge after 'threshold' number of steps. The sequence diverges if the\n",
    "    absolute value of z[i+1] is greater than 4.\n",
    "    \"\"\"\n",
    "    \n",
    "    # initial conditions\n",
    "    z = complex(zx, zy)\n",
    "    c = complex(cx, cy)\n",
    "    \n",
    "    for i in range(threshold):\n",
    "        z = z**2 + c\n",
    "        if abs(z) > 4.0: # divergence\n",
    "            if (i > 3):\n",
    "                return i\n",
    "            else:\n",
    "                return 0\n",
    "        \n",
    "    return threshold - 1 # no divergence"
   ]
  },
  {
   "cell_type": "code",
   "execution_count": null,
   "metadata": {},
   "outputs": [
    {
     "name": "stderr",
     "output_type": "stream",
     "text": [
      "<ipython-input-3-bcc13b409831>:26: MatplotlibDeprecationWarning: Passing the minor parameter of set_ticks() positionally is deprecated since Matplotlib 3.2; the parameter will become keyword-only two minor releases later.\n",
      "  ax.set_xticks([], [])  # clear x-axis ticks\n",
      "<ipython-input-3-bcc13b409831>:27: MatplotlibDeprecationWarning: Passing the minor parameter of set_ticks() positionally is deprecated since Matplotlib 3.2; the parameter will become keyword-only two minor releases later.\n",
      "  ax.set_yticks([], [])  # clear y-axis ticks\n",
      "MovieWriter ffmpeg unavailable; using Pillow instead.\n",
      "<ipython-input-3-bcc13b409831>:26: MatplotlibDeprecationWarning: Passing the minor parameter of set_ticks() positionally is deprecated since Matplotlib 3.2; the parameter will become keyword-only two minor releases later.\n",
      "  ax.set_xticks([], [])  # clear x-axis ticks\n",
      "<ipython-input-3-bcc13b409831>:27: MatplotlibDeprecationWarning: Passing the minor parameter of set_ticks() positionally is deprecated since Matplotlib 3.2; the parameter will become keyword-only two minor releases later.\n",
      "  ax.set_yticks([], [])  # clear y-axis ticks\n"
     ]
    }
   ],
   "source": [
    "import numpy as np\n",
    "import matplotlib.pyplot as plt\n",
    "import matplotlib.animation as animation\n",
    "\n",
    "x_start, y_start = -2, -2  # an interesting region starts here\n",
    "width, height = 4, 4  # for 4 units up and right\n",
    "density_per_unit = 200  # how many pixles per unit\n",
    "\n",
    "# real and imaginary axis\n",
    "re = np.linspace(x_start, x_start + width, width * density_per_unit )\n",
    "im = np.linspace(y_start, y_start + height, height * density_per_unit)\n",
    "\n",
    "\n",
    "threshold = 15  # max allowed iterations\n",
    "frames = 150  # number of frames in the animation\n",
    "\n",
    "# we represent c as c = r*cos(a) + i*r*sin(a) = r*e^{i*a}\n",
    "r = 0.7885\n",
    "a = np.linspace(0, 2*np.pi, frames)\n",
    "\n",
    "fig = plt.figure(figsize=(10, 10))  # instantiate a figure to draw\n",
    "ax = plt.axes()  # create an axes object\n",
    "\n",
    "def animate(i):\n",
    "    ax.clear()  # clear axes object\n",
    "    ax.set_xticks([], [])  # clear x-axis ticks\n",
    "    ax.set_yticks([], [])  # clear y-axis ticks\n",
    "    \n",
    "    X = np.empty((len(re), len(im)))  # the initial array-like image\n",
    "    cx, cy = r * np.cos(a[i]), r * np.sin(a[i])  # the initial c number\n",
    "    \n",
    "    # iterations for the given threshold\n",
    "    for i in range(len(re)):\n",
    "        for j in range(len(im)):\n",
    "            X[i, j] = julia_quadratic(re[i], im[j], cx, cy, threshold)\n",
    "    \n",
    "    img = ax.imshow(X.T, interpolation=\"bicubic\", cmap='RdPu')\n",
    "    return [img]\n",
    "\n",
    "anim = animation.FuncAnimation(fig, animate, frames=frames, interval=50, blit=True)\n",
    "anim.save('julia_set2.gif')"
   ]
  },
  {
   "cell_type": "code",
   "execution_count": null,
   "metadata": {},
   "outputs": [],
   "source": []
  }
 ],
 "metadata": {
  "kernelspec": {
   "display_name": "Python 3",
   "language": "python",
   "name": "python3"
  },
  "language_info": {
   "codemirror_mode": {
    "name": "ipython",
    "version": 3
   },
   "file_extension": ".py",
   "mimetype": "text/x-python",
   "name": "python",
   "nbconvert_exporter": "python",
   "pygments_lexer": "ipython3",
   "version": "3.8.6"
  }
 },
 "nbformat": 4,
 "nbformat_minor": 4
}
